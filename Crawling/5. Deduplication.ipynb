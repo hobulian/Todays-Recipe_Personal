{
 "cells": [
  {
   "cell_type": "code",
   "execution_count": 1,
   "metadata": {},
   "outputs": [],
   "source": [
    "import json\n",
    "import pandas as pd\n",
    "import numpy as np"
   ]
  },
  {
   "cell_type": "code",
   "execution_count": 3,
   "metadata": {},
   "outputs": [],
   "source": [
    "with open('Final_recipe_data.json', encoding=\"utf-8\") as f:\n",
    "    data = json.load(f)"
   ]
  },
  {
   "cell_type": "code",
   "execution_count": 4,
   "metadata": {},
   "outputs": [
    {
     "name": "stdout",
     "output_type": "stream",
     "text": [
      "기본 레시피 개수:  1670\n",
      "중복을 제외한 레시피 개수:  1670\n",
      "삭제할 레시피 개수:  0\n"
     ]
    }
   ],
   "source": [
    "## 1. 중복 레시피 제거\n",
    "\n",
    "## 기존 레시피 개수 확인\n",
    "print(\"기본 레시피 개수: \", len(data['data']))\n",
    "\n",
    "title_list = []\n",
    "del_idx_list = []\n",
    "idx = 0\n",
    "for datas in data['data']:\n",
    "    if(datas[\"title\"] not in title_list):\n",
    "        title_list.append(datas[\"title\"])\n",
    "    else:\n",
    "        del_idx_list.append(idx)\n",
    "    idx = idx + 1\n",
    "print(\"중복을 제외한 레시피 개수: \", len(title_list))\n",
    "print(\"삭제할 레시피 개수: \",len(del_idx_list))\n",
    "\n",
    "cnt = 0\n",
    "for idx in del_idx_list:\n",
    "    idx = idx - cnt\n",
    "    del(data['data'][idx])\n",
    "    # 앞에 재료가 하나 삭제 되면 인덱스가 하나씩 밀리게 되므로 처리\n",
    "    cnt = cnt + 1 "
   ]
  },
  {
   "cell_type": "code",
   "execution_count": 81,
   "metadata": {},
   "outputs": [
    {
     "name": "stdout",
     "output_type": "stream",
     "text": [
      "중복이 제거 되었는지 확인 1670\n"
     ]
    }
   ],
   "source": [
    "print(\"중복이 제거 되었는지 확인\", len(data['data']))"
   ]
  },
  {
   "cell_type": "code",
   "execution_count": 5,
   "metadata": {},
   "outputs": [
    {
     "name": "stdout",
     "output_type": "stream",
     "text": [
      "중복제거전 재료의 개수:  15710 / 중복제거 후: 15708\n"
     ]
    }
   ],
   "source": [
    "# 2. 중복 재료 제거\n",
    "before = 0\n",
    "after = 0\n",
    "for datas in data['data']:\n",
    "    before = before + len(datas['ingredients'])\n",
    "    datas['ingredients'] = set(datas['ingredients'])\n",
    "    datas['ingredients'] = list(datas['ingredients'])\n",
    "    after = after + len(datas['ingredients'])\n",
    "\n",
    "print(\"중복제거전 재료의 개수: \", before, \"/ 중복제거 후:\", after)"
   ]
  },
  {
   "cell_type": "code",
   "execution_count": 6,
   "metadata": {},
   "outputs": [],
   "source": [
    "with open('Deduplicated_Filtered_recipe_data_Final.json', \"w\", encoding='utf-8') as outfile:      \n",
    "                    json.dump(data, outfile, indent=\"\\t\", ensure_ascii=False)"
   ]
  },
  {
   "cell_type": "code",
   "execution_count": 40,
   "metadata": {},
   "outputs": [],
   "source": [
    "과일                Fruit => F001 ~ 200: 이윤석, F201 ~ F400: 송지민, F401 ~ F600 : 전우진, F601~F800: 홍진우 \n",
    "\n",
    "정육/계란           Meat => M\n",
    "\n",
    "냉장/냉동/간편식    Retort => R   (밀키트 포함)\n",
    "\n",
    "델리/샐러드         Delhi => D\n",
    "\n",
    "통조림/즉석밥/면    Can => C\n",
    "\n",
    "수산/건어물         Seafood => S\n",
    "\n",
    "김치/반찬           Kinchi => K\n",
    "\n",
    "쌀/잡곡             Grain => G\n",
    "\n",
    "베이커리            Bakery => B \n",
    "\n",
    "장/양념/소스        Spices => Sp\n",
    "\n",
    "간식/떡/빙과        Snack => Sn\n",
    "\n",
    "커피/음료           Beverage  => Be\n",
    "\n",
    "우유/유제품         Milk  => Mi\n",
    "\n",
    "채소                Vegetable => V"
   ]
  },
  {
   "cell_type": "code",
   "execution_count": 7,
   "metadata": {},
   "outputs": [],
   "source": [
    "with open('Deduplicated_Filtered_recipe_data_Final.json', encoding=\"utf-8\") as f:\n",
    "    data = json.load(f)\n",
    "\n",
    "# Json파일에서 각 레시피의 재료 리스트 뽑아오기\n",
    "ingredients_list = []\n",
    "for i in range(len(data['data'])):\n",
    "    ingredients_list.append(data['data'][i]['ingredients'])\n",
    "\n",
    "# 뽑아온 재료 리스트를 하나의 리스트에 통합\n",
    "ingredients = []\n",
    "for i in ingredients_list:\n",
    "    for j in i:\n",
    "        ingredients.append(j)\n",
    "\n",
    "# 리스트를 데이터 프레임으로 만들어 동일한 재료가 들어간 횟수를 카운트\n",
    "sum = pd.DataFrame(ingredients, columns=[\"ingredient\"])\n",
    "df_value_counts = sum.value_counts(ascending=False)\n",
    "\n",
    "# 엑셀 파일로 저장\n",
    "sum.value_counts(ascending=False).to_excel(\"Deduplicated_Filtered_Ingredients_List_up_by_value_counts.xlsx\")"
   ]
  },
  {
   "cell_type": "code",
   "execution_count": 125,
   "metadata": {},
   "outputs": [],
   "source": []
  },
  {
   "cell_type": "code",
   "execution_count": 126,
   "metadata": {},
   "outputs": [],
   "source": []
  },
  {
   "cell_type": "code",
   "execution_count": 127,
   "metadata": {},
   "outputs": [],
   "source": []
  },
  {
   "cell_type": "code",
   "execution_count": null,
   "metadata": {},
   "outputs": [],
   "source": []
  }
 ],
 "metadata": {
  "kernelspec": {
   "display_name": "Python 3 (ipykernel)",
   "language": "python",
   "name": "python3"
  },
  "language_info": {
   "codemirror_mode": {
    "name": "ipython",
    "version": 3
   },
   "file_extension": ".py",
   "mimetype": "text/x-python",
   "name": "python",
   "nbconvert_exporter": "python",
   "pygments_lexer": "ipython3",
   "version": "3.9.12"
  },
  "vscode": {
   "interpreter": {
    "hash": "3abef859d002c6750ca6e31532104864d50c2c03ecac513d70642831473e898a"
   }
  }
 },
 "nbformat": 4,
 "nbformat_minor": 2
}

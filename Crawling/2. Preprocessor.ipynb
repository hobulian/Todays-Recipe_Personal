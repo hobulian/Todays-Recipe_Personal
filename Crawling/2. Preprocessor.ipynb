{
 "cells": [
  {
   "cell_type": "code",
   "execution_count": 5,
   "id": "b7e3a1b3",
   "metadata": {},
   "outputs": [],
   "source": [
    "import json\n",
    "import pandas as pd"
   ]
  },
  {
   "cell_type": "code",
   "execution_count": 6,
   "id": "eecba799",
   "metadata": {},
   "outputs": [],
   "source": [
    "with open('recipe_data.json', encoding=\"utf-8\") as f:\n",
    "    data = json.load(f)"
   ]
  },
  {
   "cell_type": "code",
   "execution_count": 7,
   "id": "ebd399d4",
   "metadata": {},
   "outputs": [],
   "source": [
    "for i in range(len(data['data'])):\n",
    "    del_idx = []    # 삭제할 재료의 인덱스를 저장\n",
    "    for c in range(len(data['data'][i]['ingredients'])):\n",
    "        ingredient = data['data'][i]['ingredients'][c]\n",
    "\n",
    "        # 요. 이 들어간 문장형태의 경우 제거\n",
    "        # 공백인 경우 제거\n",
    "        if((\"요.\" in ingredient) or (ingredient == '')):\n",
    "            del_idx.append(c)\n",
    "\n",
    "        # 전처리\n",
    "        else:\n",
    "            # TIP, tip, Tip 이 포함된 문자열에서 팁 앞의 재료만 남기고 삭제\n",
    "            if(\"TIP\" in ingredient):\n",
    "                data['data'][i]['ingredients'][c] = (ingredient.split(\"TIP\")[0])\n",
    "            if(\"tip\" in ingredient):\n",
    "                data['data'][i]['ingredients'][c] = (ingredient.split(\"tip\")[0])\n",
    "            if(\"Tip\" in ingredient):\n",
    "                data['data'][i]['ingredients'][c] = (ingredient.split(\"Tip\")[0])   \n",
    "\n",
    "            # 괄호의 내용이 있는 경우 괄호 앞의 재료만을 가져옴\n",
    "            if (\"(\" in ingredient):\n",
    "                data['data'][i]['ingredients'][c] = (ingredient.split(\"(\")[0])\n",
    "            # )로 끝나는 재료가 있다면 이상치 이므로 삭제\n",
    "            elif (\")\" in ingredient):\n",
    "                del_idx.append(c)\n",
    "\n",
    "            if (\"\\t\" in ingredient):\n",
    "                data['data'][i]['ingredients'][c] = data['data'][i]['ingredients'][c].replace(\"\\t\", \"\")\n",
    "\n",
    "            # = 의 경우 우측의 데이터가 조금 더 포괄적인 데이터 이므로 우측 데이터 추출\n",
    "            if (\"=\" in ingredient):\n",
    "                data['data'][i]['ingredients'][c] = (ingredient.split(\"=\")[1])\n",
    "\n",
    "    del_idx.sort()\n",
    "    # 저장된 인덱스의 재료를 삭제\n",
    "    cnt = 0\n",
    "    for idx in del_idx:\n",
    "        idx = idx - cnt\n",
    "        del(data['data'][i]['ingredients'][idx])\n",
    "        # 앞에 재료가 하나 삭제 되면 인덱스가 하나씩 밀리게 되므로 처리\n",
    "        cnt = cnt + 1\n",
    "\n",
    "\n",
    "# +, 또는, . 으로 여러개 재료가 합쳐져있는 경우 분리해서 추가\n",
    "for i in range(len(data['data'])):\n",
    "    for c in range(len(data['data'][i]['ingredients'])):\n",
    "        ingredient = data['data'][i]['ingredients'][c]\n",
    "\n",
    "        if (\"+\" in ingredient):\n",
    "            for k in ingredient.split(\"+\"):\n",
    "                data['data'][i]['ingredients'].append(k)\n",
    "            del(data['data'][i]['ingredients'][c])\n",
    "            \n",
    "        elif (\"또는\" in ingredient):\n",
    "            for k in ingredient.split(\"또는\"):\n",
    "                data['data'][i]['ingredients'].append(k)\n",
    "            del(data['data'][i]['ingredients'][c])\n",
    "\n",
    "        elif (\".\" in ingredient):\n",
    "            for k in ingredient.split(\".\"):\n",
    "                data['data'][i]['ingredients'].append(k)\n",
    "            del(data['data'][i]['ingredients'][c])\n",
    "\n",
    "        \n",
    "\n",
    "\n",
    "\n"
   ]
  },
  {
   "cell_type": "code",
   "execution_count": 8,
   "id": "674f55bd",
   "metadata": {},
   "outputs": [],
   "source": [
    "with open('preprocessed_recipe_data.json', \"w\", encoding='utf-8') as outfile:      \n",
    "                    json.dump(data, outfile, indent=\"\\t\", ensure_ascii=False)"
   ]
  }
 ],
 "metadata": {
  "kernelspec": {
   "display_name": "Python 3.9.12 ('base')",
   "language": "python",
   "name": "python3"
  },
  "language_info": {
   "codemirror_mode": {
    "name": "ipython",
    "version": 3
   },
   "file_extension": ".py",
   "mimetype": "text/x-python",
   "name": "python",
   "nbconvert_exporter": "python",
   "pygments_lexer": "ipython3",
   "version": "3.9.12"
  },
  "vscode": {
   "interpreter": {
    "hash": "3abef859d002c6750ca6e31532104864d50c2c03ecac513d70642831473e898a"
   }
  }
 },
 "nbformat": 4,
 "nbformat_minor": 5
}
